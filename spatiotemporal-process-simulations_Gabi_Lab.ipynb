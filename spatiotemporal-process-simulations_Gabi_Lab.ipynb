{
 "cells": [
  {
   "cell_type": "markdown",
   "metadata": {},
   "source": [
    "# Generative simulations: spatiotemporal process models\n",
    "\n",
    "*Space-Time Analytics — Lab for spatiotemporal process models*\n",
    "\n",
    "2016-11-14\n",
    "\n",
    "Your name: \n",
    "\n",
    "Date: \n",
    "\n",
    "## Description\n",
    "\n",
    "For this week's lab, you will be simulating from a variety of models of increasing complexity to better understand how spatiotemporal process models work. \n",
    "\n",
    "For each model below, simulate one realization of the parameters and the data (conditional on the parameters). Then, visualize the data in a way that makes sense given the spatial and temporal structure of the data. \n",
    "\n",
    "## Model 1: Model of the mean\n",
    "\n",
    "*Specification*\n",
    "\n",
    "We have observations $y_1, y_2, y_{N_t}$, each of which is independent and identically distributed as:\n",
    "\n",
    "$$y_t \\sim \\text{Normal}(\\mu = 0, \\sigma_y)$$\n",
    "\n",
    "$$\\sigma_y \\sim \\text{Normal}_+(0, 1)$$"
   ]
  },
  {
   "cell_type": "code",
   "execution_count": 7,
   "metadata": {
    "collapsed": false
   },
   "outputs": [
    {
     "data": {
      "text/plain": [
       "-0.6637128127728472"
      ]
     },
     "execution_count": 7,
     "metadata": {},
     "output_type": "execute_result"
    }
   ],
   "source": [
    "# Set up high level quantities\n",
    "N_t <- 10\n",
    "\n",
    "\n",
    "# Draw from prior distribution\n",
    "sigma_y <- abs(rnorm(1, mean = 0, sd = 1))\n",
    "\n",
    "# Draw observations \n",
    "y <- rnorm(N_t, mean = 0, sd = sigma_y)\n",
    "\n",
    "# Visualize\n",
    "par(mfrow = c(1, 2))\n",
    "plot(y)\n",
    "hist(y)"
   ]
  },
  {
   "cell_type": "markdown",
   "metadata": {},
   "source": [
    "## Model 2: Varying-intercept model\n",
    "\n",
    "*Specification*\n",
    "\n",
    "At $N_s = 100$ spatial locations we observe the response $y(s, t)$ at each of $N_t = 10$ time steps:\n",
    "\n",
    "**Likelihood**\n",
    "\n",
    "$$y(s, t) \\sim \\text{Normal}(\\beta_t, \\sigma_y)$$\n",
    "\n",
    "**Priors**\n",
    "\n",
    "$$\\beta_t \\sim \\text{Normal}(0, \\sigma_\\beta)$$\n",
    "\n",
    "$$\\sigma_\\beta \\sim \\text{Normal}_+(0, 1)$$\n",
    "\n",
    "$$\\sigma_y \\sim \\text{Normal}_+(0, 1)$$"
   ]
  },
  {
   "cell_type": "code",
   "execution_count": 2,
   "metadata": {
    "collapsed": true
   },
   "outputs": [],
   "source": [
    "N_s <- 100 # number of sites\n",
    "N_t <- 10 # number of time steps\n",
    "\n",
    "# draw priors\n",
    "sigma_y <- abs(rnorm(n = 1, mean = 0, sd = 1))\n",
    "sigma_beta <- abs(rnorm(n = 1, mean = 0, sd = 1))\n",
    "beta <- rnorm(n = N_t, mean = 0, sd = sigma_beta)\n",
    "\n",
    "# draw observations from the likelihood\n",
    "y <- matrix(nrow = N_s, ncol = N_t)\n",
    "for (t in 1:N_t) {\n",
    "    y[, t] <- rnorm(N_s, mean = beta[t], sd = sigma_y)\n",
    "}\n",
    "\n",
    "##Visualize\n",
    "library(reshape2)\n",
    "library(ggplot2)\n",
    "\n",
    "y_df <- melt(y, varnames = c(\"Site\", \"Timestep\"))\n",
    "\n",
    "ggplot(y_df, aes(x = Timestep, y = value)) + \n",
    "    geom_point() + \n",
    "    ylab(\"y\") + \n",
    "    geom_point(data = data.frame(Timestep = 1:N_t, value = beta), \n",
    "               col = \"red\", size = 4)\n"
   ]
  },
  {
   "cell_type": "markdown",
   "metadata": {},
   "source": [
    "## Model 3: AR(1) model\n",
    "\n",
    "*Specification*\n",
    "\n",
    "At $N_s = 100$ spatial locations we observe the response $y(s, t)$ at each of $N_t = 10$ time steps:\n",
    "\n",
    "**Likelihood**\n",
    "\n",
    "$$y(s, t) \\sim \\text{Normal}(\\beta_t, \\sigma_y)$$\n",
    "\n",
    "**Priors**\n",
    "\n",
    "$$\\beta_t = \\beta_{t - 1} + \\eta_t$$\n",
    "\n",
    "$$\\eta_t \\sim \\text{Normal}(0, \\sigma_\\eta)$$\n",
    "\n",
    "$$\\beta_{t = 0} \\sim \\text{Normal}(0, 1)$$\n",
    "\n",
    "$$\\sigma_\\eta \\sim \\text{Normal}_+(0, 1)$$\n",
    "\n",
    "$$\\sigma_y \\sim \\text{Normal}_+(0, 1)$$"
   ]
  },
  {
   "cell_type": "code",
   "execution_count": 3,
   "metadata": {
    "collapsed": true
   },
   "outputs": [],
   "source": [
    "# initialize empty objects\n",
    "y <- matrix(nrow = N_s, ncol = N_t)\n",
    "beta <- rep(NA, N_t)\n",
    "\n",
    "# draw from priors\n",
    "sigma_eta <- abs(rnorm(n = 1, mean = 0, sd = 1))\n",
    "eta <- rnorm(n = N_t, mean = 0, sd = sigma_eta)\n",
    "\n",
    "beta_0 <- rnorm(n = 1, mean = 0, sd = 1)\n",
    "for (t in 1:N_t) {\n",
    "    if (t == 1) {\n",
    "        beta[t] <- beta_0 + eta[t]\n",
    "    } else {\n",
    "        beta[t] <- beta[t - 1] + eta[t]\n",
    "    }\n",
    "}\n",
    "\n",
    "# simulate observations\n",
    "for (i in 1:N_s) {\n",
    "    for (t in 1:N_t) {\n",
    "        y[i, t] <- rnorm(n = 1, mean = beta[t], sd = sigma_y)\n",
    "    }\n",
    "}\n",
    "\n",
    "#Visualize\n",
    "y_df <- melt(y, varnames = c(\"Site\", \"Timestep\"))\n",
    "\n",
    "ggplot(y_df, aes(x = Timestep, y = value)) + \n",
    "    geom_point() + \n",
    "    ylab(\"y\") + \n",
    "    geom_point(data = data.frame(Timestep = 1:N_t, value = beta), \n",
    "               col = \"red\", size = 4)"
   ]
  },
  {
   "cell_type": "markdown",
   "metadata": {},
   "source": [
    "## Model 4: AR(1) model + spatially-varying intercept\n",
    "\n",
    "\n",
    "At $N_s = 100$ spatial locations with locations $x_1, x_2, ..., x_{N_s}$ we observe the response $y(s, t)$ at each of $N_t = 10$ time steps:\n",
    "\n",
    "**Likelihood**\n",
    "\n",
    "$$y(s, t) \\sim \\text{Normal}(\\alpha_s + \\beta_t, \\sigma_y)$$\n",
    "\n",
    "**Priors**\n",
    "\n",
    "$$\\alpha_s \\sim \\text{GP}(0, [\\gamma^2 \\text{exp}(-\\phi d_{ij})])$$\n",
    "\n",
    "$$\\beta_t = \\beta_{t - 1} + \\eta_t$$\n",
    "\n",
    "$$\\eta_t \\sim \\text{Normal}(0, \\sigma_\\eta)$$\n",
    "\n",
    "$$\\beta_{t = 0} \\sim \\text{Normal}(0, 1)$$\n",
    "\n",
    "$$\\sigma_\\eta \\sim \\text{Normal}_+(0, 1)$$\n",
    "\n",
    "$$\\sigma_y \\sim \\text{Normal}_+(0, 1)$$\n",
    "\n",
    "$$\\gamma \\sim \\text{Normal}_+(0, 1)$$\n",
    "\n",
    "$$\\phi \\sim \\text{Normal}_+(0, 1)$$\n"
   ]
  },
  {
   "cell_type": "code",
   "execution_count": 4,
   "metadata": {
    "collapsed": true
   },
   "outputs": [],
   "source": [
    "library(MASS) # for mvrnorm\n",
    "\n",
    "# Set up data\n",
    "N <- 1000\n",
    "x <- sort(runif(N))\n",
    "D <- as.matrix(dist(x))\n",
    "\n",
    "# Choose parameters\n",
    "gamma_sq <- 10\n",
    "phi <- 1\n",
    "sigma_sq <- .00001\n",
    "\n",
    "K <- gamma_sq * exp(-phi * D) + sigma_sq * diag(N)\n",
    "\n",
    "# Simulate observations\n",
    "y <- mvrnorm(n = 1, mu = rep(0, N), Sigma = K)\n",
    "\n",
    "plot(x, y, type = \"l\")"
   ]
  },
  {
   "cell_type": "markdown",
   "metadata": {},
   "source": [
    "## Model 5: Spatiotemporal process model\n",
    "\n",
    "At $N_s = 100$ spatial locations with locations $x_1, x_2, ..., x_{N_s}$ we observe the response $y(s, t)$ at each of $N_t = 10$ time steps:\n",
    "\n",
    "**Likelihood**\n",
    "\n",
    "$$y(s, t) \\sim \\text{Normal}(\\alpha_{st}+ \\beta_{t}, \\sigma_y)$$\n",
    "\n",
    "**Priors**\n",
    "\n",
    "$$\\alpha_{st} = \\alpha_{s, t - 1} + \\omega_{st}$$\n",
    "\n",
    "$$\\omega_{s, t} \\sim \\text{GP}(0, [\\gamma^2 \\text{exp}(-\\phi d_{ij})])$$\n",
    "\n",
    "$$\\alpha_{s, t = 0} \\sim \\text{GP}(0, [\\gamma^2 \\text{exp}(-\\phi d_{ij})])$$\n",
    "\n",
    "$$\\beta_t = \\beta_{t - 1} + \\eta_t$$\n",
    "\n",
    "$$\\eta_t \\sim \\text{Normal}(0, \\sigma_\\eta)$$\n",
    "\n",
    "$$\\beta_{t = 0} \\sim \\text{Normal}(0, 1)$$\n",
    "\n",
    "$$\\sigma_\\eta \\sim \\text{Normal}_+(0, 1)$$\n",
    "\n",
    "$$\\sigma_y \\sim \\text{Normal}_+(0, 1)$$\n",
    "\n",
    "$$\\gamma \\sim \\text{Normal}_+(0, 1)$$\n",
    "\n",
    "$$\\phi \\sim \\text{Normal}_+(0, 1)$$"
   ]
  },
  {
   "cell_type": "code",
   "execution_count": 5,
   "metadata": {
    "collapsed": true
   },
   "outputs": [],
   "source": [
    "# set up data\n",
    "N_s <- 100\n",
    "N_t <- 10\n",
    "x <- matrix(runif(N_s * 2), ncol = 2)\n",
    "D <- as.matrix(dist(x))\n",
    "y <- matrix(nrow = N_s, ncol = N_t)\n",
    "\n",
    "# draw parameters\n",
    "phi <- abs(rnorm(1))\n",
    "gamma <- abs(rnorm(1))\n",
    "sigma_y <- abs(rnorm(1))\n",
    "\n",
    "sigma_eta <- abs(rnorm(1))\n",
    "eta <- rnorm(N_t, 0, sigma_eta)\n",
    "\n",
    "# temporal effects\n",
    "beta_0 <- rnorm(1)\n",
    "beta <- rep(NA, N_t)\n",
    "beta[1] <- beta_0 + eta[1]\n",
    "for (t in 2:N_t) {\n",
    "    beta[t] <- beta[t - 1] + eta[t]\n",
    "}\n",
    "\n",
    "# spatiotemporal effects\n",
    "K <- gamma**2 * exp(-phi * D)\n",
    "alpha_0 <- mvrnorm(n = 1, mu = rep(0, N_s), Sigma = K)\n",
    "omega <- matrix(nrow = N_s, ncol = N_t)\n",
    "alpha <- matrix(nrow = N_s, ncol = N_t)\n",
    "for (t in 1:N_t) {\n",
    "    omega[, t] <- mvrnorm(n = 1, mu = rep(0, N_s), Sigma = K)\n",
    "    if (t == 1) {\n",
    "        alpha[, t] <- alpha_0 + omega[, 1]\n",
    "    } else {\n",
    "        alpha[, t] <- alpha[, t - 1] + omega[, t]\n",
    "    }\n",
    "}\n",
    "\n",
    "# observations\n",
    "for (i in 1:N_s) {\n",
    "    for (t in 1:N_t) {\n",
    "        y[i, t] <- rnorm(1, mean = alpha[i, t] + beta[t], sd = sigma_y)\n",
    "    }\n",
    "}"
   ]
  },
  {
   "cell_type": "code",
   "execution_count": null,
   "metadata": {
    "collapsed": true
   },
   "outputs": [],
   "source": [
    "# make a data frame for y and add the spatial coordinates\n",
    "y_df <- melt(y, varnames = c(\"Site\", \"Timestep\"), value.name = \"y\")\n",
    "y_df$x1 <- x[y_df$Site, 1]\n",
    "y_df$x2 <- x[y_df$Site, 2]\n",
    "\n",
    "ggplot(y_df, aes(x = x1, y = x2, color = y)) + \n",
    "    geom_point(size = 3) + \n",
    "    facet_wrap(~ Timestep, nrow = 2, labeller = \"label_both\") + \n",
    "    scale_color_viridis() + \n",
    "    theme_minimal() + \n",
    "    coord_equal() + \n",
    "    theme(legend.position = \"top\")"
   ]
  },
  {
   "cell_type": "markdown",
   "metadata": {},
   "source": [
    "## Check your understanding\n",
    "\n",
    "Explain how you would modify your spatiotemporal process model to accomplish the following (e.g., which parameters would you change, and how would you change them?): \n",
    "\n",
    "### Reduce spatial variation\n",
    "\n",
    "Decrease the covariance.\n",
    "\n",
    "### Increase the differences among years in the response $y$\n",
    "\n",
    "Your text here\n",
    "\n",
    "### Increase the spatial range for the spatiotemporal effect, so that distant sites behave more similarly\n",
    "\n",
    "The spatial decay parameter could be changed so that the decay occurs farther out."
   ]
  },
  {
   "cell_type": "code",
   "execution_count": null,
   "metadata": {
    "collapsed": true
   },
   "outputs": [],
   "source": []
  }
 ],
 "metadata": {
  "anaconda-cloud": {},
  "kernelspec": {
   "display_name": "Python [Root]",
   "language": "python",
   "name": "Python [Root]"
  },
  "language_info": {
   "codemirror_mode": {
    "name": "ipython",
    "version": 3
   },
   "file_extension": ".py",
   "mimetype": "text/x-python",
   "name": "python",
   "nbconvert_exporter": "python",
   "pygments_lexer": "ipython3",
   "version": "3.5.2"
  }
 },
 "nbformat": 4,
 "nbformat_minor": 0
}
